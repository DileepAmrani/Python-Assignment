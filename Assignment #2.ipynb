{
 "cells": [
  {
   "cell_type": "code",
   "execution_count": 3,
   "metadata": {},
   "outputs": [
    {
     "name": "stdout",
     "output_type": "stream",
     "text": [
      "Enter your English Marks34\n",
      "Enter your Biology Marks56\n",
      "Enter your Physics Marks78\n",
      "Enter your Sindhi Marks89\n",
      "Enter your Ethics Marks90\n",
      "347\n",
      "69.39999999999999\n",
      "Congratulation your Grade is B\n"
     ]
    }
   ],
   "source": [
    "\n",
    "sub1 = int(input(\"Enter your English Marks\"))\n",
    "sub2 = int(input(\"Enter your Biology Marks\"))\n",
    "sub3 = int(input(\"Enter your Physics Marks\"))\n",
    "sub4 = int(input(\"Enter your Sindhi Marks\"))\n",
    "sub5 = int(input(\"Enter your Ethics Marks\"))\n",
    "\n",
    "totalMarks = sub1 + sub2 + sub3 + sub4 + sub5\n",
    "per = totalMarks / 500 * 100\n",
    "print(totalMarks)\n",
    "print(per)\n",
    "\n",
    "if per >= 80:\n",
    "    print(\"Congratulation your Grade is A+\")\n",
    "elif per >= 70:\n",
    "    print(\"Congratulation your Grade is A\")\n",
    "elif per >= 60:\n",
    "    print(\"You are pass your Grade is B\")\n",
    "elif per >= 50:\n",
    "    print(\"You are Just Pass your Grade is C\")\n",
    "else:     \n",
    "    print(\"Sorry You are Fail\")"
   ]
  },
  {
   "cell_type": "code",
   "execution_count": 6,
   "metadata": {},
   "outputs": [
    {
     "name": "stdout",
     "output_type": "stream",
     "text": [
      "Give me Number4556\n",
      "0\n",
      "It's a Even Number Budy\n"
     ]
    }
   ],
   "source": [
    "num = int(input(\"Give me Number\"))\n",
    "modules = num % 2\n",
    "print(modules)\n",
    "\n",
    "if modules == 1:\n",
    "    print(\"It's a Odd Number Dear\")\n",
    "else:\n",
    "    print(\"It's a Even Number Budy\")"
   ]
  },
  {
   "cell_type": "code",
   "execution_count": 9,
   "metadata": {},
   "outputs": [
    {
     "name": "stdout",
     "output_type": "stream",
     "text": [
      "Your Total Teachers =  4\n"
     ]
    }
   ],
   "source": [
    "teachers = [\"Sir M Ali Mughal\", \"Sir Ghous Ahmed\", \"Sir Umar Aslam Nawab\", \"Sir Umair Khan\"]\n",
    "totalTeachers = len(teachers)\n",
    "print(\"Your Total Teachers = \", totalTeachers)"
   ]
  },
  {
   "cell_type": "code",
   "execution_count": 11,
   "metadata": {},
   "outputs": [
    {
     "name": "stdout",
     "output_type": "stream",
     "text": [
      "225\n"
     ]
    }
   ],
   "source": [
    "nums = [ 15, 30 , 45, 60, 75]\n",
    "total = nums[0] + nums[1] + nums[2] + nums[3] + nums[4] \n",
    "print(total)"
   ]
  },
  {
   "cell_type": "code",
   "execution_count": 14,
   "metadata": {},
   "outputs": [
    {
     "name": "stdout",
     "output_type": "stream",
     "text": [
      "128\n"
     ]
    }
   ],
   "source": [
    "nums = [ 15, 30 , 128, 45, 60, 75]\n",
    "maxNum = max(nums)\n",
    "print(maxNum)"
   ]
  },
  {
   "cell_type": "code",
   "execution_count": null,
   "metadata": {},
   "outputs": [],
   "source": [
    "a = [1, 1, 2, 3, 5, 8, 13, 21, 34, 55, 89]\n"
   ]
  }
 ],
 "metadata": {
  "kernelspec": {
   "display_name": "Python 3",
   "language": "python",
   "name": "python3"
  },
  "language_info": {
   "codemirror_mode": {
    "name": "ipython",
    "version": 3
   },
   "file_extension": ".py",
   "mimetype": "text/x-python",
   "name": "python",
   "nbconvert_exporter": "python",
   "pygments_lexer": "ipython3",
   "version": "3.7.4"
  }
 },
 "nbformat": 4,
 "nbformat_minor": 2
}
